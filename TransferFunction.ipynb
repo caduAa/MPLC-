{
  "nbformat": 4,
  "nbformat_minor": 0,
  "metadata": {
    "colab": {
      "provenance": [],
      "authorship_tag": "ABX9TyNBWGL2OJlgbqXc16bKN3J2",
      "include_colab_link": true
    },
    "kernelspec": {
      "name": "python3",
      "display_name": "Python 3"
    },
    "language_info": {
      "name": "python"
    }
  },
  "cells": [
    {
      "cell_type": "markdown",
      "metadata": {
        "id": "view-in-github",
        "colab_type": "text"
      },
      "source": [
        "<a href=\"https://colab.research.google.com/github/caduAa/MPLC-/blob/main/TransferFunction.ipynb\" target=\"_parent\"><img src=\"https://colab.research.google.com/assets/colab-badge.svg\" alt=\"Open In Colab\"/></a>"
      ]
    },
    {
      "cell_type": "code",
      "execution_count": null,
      "metadata": {
        "id": "XVWhnzNlnu5h"
      },
      "outputs": [],
      "source": [
        "def TransferFunctionOfFreeSpace(dx, dy, dz, n, lambda_):\n",
        "  k_x, k_y = np.fft.fftfreq(n, dx), np.fft.fftfreq(n, dy);\n",
        "  K_x, K_y = np.meshgrid(k_x, k_y);\n",
        "\n",
        "  H = np.exp(-1j * 2. * np.pi * dz * np.sqrt(((lambda_)**(-2))-(K_x)**2-(K_y)**2));"
      ]
    }
  ]
}
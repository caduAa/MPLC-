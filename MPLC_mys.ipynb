{
  "nbformat": 4,
  "nbformat_minor": 0,
  "metadata": {
    "colab": {
      "provenance": [],
      "include_colab_link": true
    },
    "kernelspec": {
      "name": "python3",
      "display_name": "Python 3"
    },
    "language_info": {
      "name": "python"
    }
  },
  "cells": [
    {
      "cell_type": "markdown",
      "metadata": {
        "id": "view-in-github",
        "colab_type": "text"
      },
      "source": [
        "<a href=\"https://colab.research.google.com/github/caduAa/MPLC-/blob/main/MPLC_mys.ipynb\" target=\"_parent\"><img src=\"https://colab.research.google.com/assets/colab-badge.svg\" alt=\"Open In Colab\"/></a>"
      ]
    },
    {
      "cell_type": "code",
      "source": [
        "import numpy as np\n",
        "from scipy.fft import fft2, ifft2\n",
        "import matplotlib.pyplot as plt\n",
        "%matplotlib inline"
      ],
      "metadata": {
        "id": "Y6CF7HBPB4L5"
      },
      "execution_count": null,
      "outputs": []
    },
    {
      "cell_type": "code",
      "source": [
        "def split_step(U,region, dz):\n",
        "\n",
        "  X,Y = region;\n",
        "  dx, dy = X[1] - X[0], Y[1] - Y[0];\n",
        "  k_x, k_y = 2. * np.pi * np.fft.fftfreq(50, dx), 2. * np.pi * np.fft.fftfreq(50, dy);\n",
        "  K_x, K_y = np.meshgrid(k_x, k_y);\n",
        "\n",
        "  H = np.exp(-1j *dz * np.sqrt((k)**2-(K_x)**2-(K_y)**2));\n",
        "\n",
        "  return ifft2(H * fft2(U));"
      ],
      "metadata": {
        "id": "ZJlrDz5kaZk5"
      },
      "execution_count": null,
      "outputs": []
    },
    {
      "cell_type": "code",
      "execution_count": null,
      "metadata": {
        "id": "ra2BzAYY7j3T",
        "colab": {
          "base_uri": "https://localhost:8080/",
          "height": 472
        },
        "collapsed": true,
        "outputId": "33826349-d067-4bb7-86f4-7a4ff9359861"
      },
      "outputs": [
        {
          "output_type": "stream",
          "name": "stderr",
          "text": [
            "<ipython-input-18-f761421446da>:125: RuntimeWarning: invalid value encountered in sqrt\n",
            "  H = np.exp(-1j *dz * np.sqrt((k)**2-(K_x)**2-(K_y)**2));\n"
          ]
        },
        {
          "output_type": "display_data",
          "data": {
            "text/plain": [
              "<Figure size 640x480 with 1 Axes>"
            ],
            "image/png": "[encoded data removed]"
          },
          "metadata": {}
        }
      ],
      "source": [
        "# For] the field propagation\n",
        "def split_step(U, H):\n",
        "  U_fft = np.fft.fft2(U);                                                       #Field's Fourier Transform\n",
        "  U_propfft = U_fft * H;                                                        # Propagation in Fourier Space\n",
        "  return np.fft.ifft2(U_propfft);                                               # Back to Real Space\n",
        "\n",
        "## For initial fields\n",
        "def gaussian_beam(w0, region):\n",
        "  j_k = 1j * k;\n",
        "  z0 = 0.5* k * ((w0)**2);                                                      #Rayleigh range\n",
        "  W = w0 * np.sqrt(1 + (zList / z0) **2);                                       #Beam waist\n",
        "  i = 0;\n",
        "  X,Y = region;\n",
        "  RHO = np.sqrt(X**2+Y**2);\n",
        "\n",
        "  R = np.zeros(b);\n",
        "  for z in zList:\n",
        "    if z == 0:\n",
        "      pass\n",
        "    else:\n",
        "      R[i] = z * (1 + (z0 / z) **2);\n",
        "      i = i + 1;\n",
        "\n",
        "  j_zeta = -1j * z0;\n",
        "  A0 = 1.;\n",
        "  A = (w0 / W);\n",
        "  WW = W ** 2.;\n",
        "\n",
        "  U = A0 * np.exp(-RHO**2 / W[0] ** 2);\n",
        "\n",
        "  return U;\n",
        "\n",
        "def laguerre_gauss_beam(w0, region, l, m):\n",
        "\n",
        "  j_k = 1j * k;\n",
        "  z0 = 0.5* k * ((w0)**2);                                                      #Rayleigh range\n",
        "  W = w0 * np.sqrt(1 + (zList / z0) **2);                                       #Beam waist\n",
        "  i = 0;\n",
        "  X,Y = region;\n",
        "  RHO = np.sqrt(X**2+Y**2);\n",
        "  PHI = np.arctan(Y/X);\n",
        "\n",
        "  R = np.zeros(b);\n",
        "  for z in zList:\n",
        "    if z == 0:\n",
        "      pass\n",
        "    else:\n",
        "      R[i] = z * (1 + (z0 / z) **2);\n",
        "      i = i + 1;\n",
        "\n",
        "  j_zeta = -1j * z0;\n",
        "  Oz = np.arctan(zList/z0);\n",
        "  A0 = 1.;\n",
        "  A = (w0 / W);\n",
        "  WW = W ** 2.;\n",
        "\n",
        "  U = A0 * ((RHO / W[0]) ** l) * np.exp(-RHO ** 2 / W[0] ** 2) * np.exp(- (j_k * zList[0]) - 1j * l * PHI + 1j * (l + 2*m + 1) * Oz[0]);                   #terminar\n",
        "\n",
        "  return U;\n",
        "\n",
        "#Optimizing...\n",
        "def optimizing_phases(U1, U2, region, num_interaction = 100):\n",
        "\n",
        "  numsteps = 250;                                                               #Each step\n",
        "  phases = [np.random.uniform(0, 2 * np.pi, U1.shape) for step in range(numsteps)];\n",
        "\n",
        "  carlos_antunis = U1;\n",
        "  u1 = U2;\n",
        "  u2 = U2;\n",
        "  E = U1-U2;\n",
        "  E_sqr = np.real(np.mean(np.abs(E)**2));\n",
        "\n",
        "  for i in range(num_interaction):\n",
        "\n",
        "    j = 0;\n",
        "    k = 0;\n",
        "\n",
        "    if E_sqr < 0.1:\n",
        "      pass\n",
        "    else:\n",
        "      for j,k in enumerate(range(numsteps), range(numsteps,0,-1)):\n",
        "\n",
        "        t1 = np.exp(1j * phases[j]);\n",
        "        t2 = np.exp(1j * phases[k]);\n",
        "        U1 = split_step(U1 * t1, H);\n",
        "        U2 = split_step(U2 * t2, np.conj(H));\n",
        "\n",
        "    #if E_sqr > 0.1:\n",
        "      #for j in range(numsteps):                                                 #Loop for phase planes optimization\n",
        "        phase_diff = np.angle(np.conj(U1) * U2);\n",
        "    #phases[i] -= learning_rate * phase diff;\n",
        "        phases[j] = phase_diff;\n",
        "        E = U1-U2;\n",
        "        E_sqr = np.real(np.mean(np.abs(E)**2));\n",
        "\n",
        "    U1 = U3;\n",
        "    U1, U2 = u1, u2;\n",
        "\n",
        "\n",
        "  return U1, phases, E_sqr;\n",
        "\n",
        "\n",
        "\n",
        "##Parameters\n",
        "l=np.linspace(-10,+10,50);\n",
        "X, Y = np.meshgrid(l,l);\n",
        "N = 350;\n",
        "L = 80;\n",
        "n0 = 1.5078;\n",
        "lambda_ = 640e-3;\n",
        "k0 = 2*np.pi/lambda_;\n",
        "k = k0*n0;\n",
        "\n",
        "RHO = np.sqrt(X**2+Y**2);\n",
        "\n",
        "dx, dy = X[1] - X[0], Y[1] - Y[0];\n",
        "dz = 20;\n",
        "zFinal = 5000;\n",
        "Nz = np.round(zFinal/dz);\n",
        "Nzint = int(Nz);\n",
        "zList = np.linspace(0,zFinal, Nzint);\n",
        "b = zList.size;                                                                 #Number of layers (and steps)\n",
        "pmlWidth = L/8;\n",
        "insideIndex = np.round(N*[pmlWidth/L, 1-pmlWidth/L]);\n",
        "region = (insideIndex[0],insideIndex[1]);\n",
        "\n",
        "#For Fourier Transform\n",
        "k_x, k_y = 2. * np.pi * np.fft.fftfreq(50, dx), 2. * np.pi * np.fft.fftfreq(50, dy);\n",
        "K_x, K_y = np.meshgrid(k_x, k_y);\n",
        "H = np.exp(-1j *dz * np.sqrt((k)**2-(K_x)**2-(K_y)**2));\n",
        "\n",
        "##Initial Beam conditions...\n",
        "w0 = 10.;                               #Beam Waist\n",
        "beamDist = 0.0;\n",
        "\n",
        "U1 = gaussian_beam(w0, region = (X,Y));\n",
        "U2 = laguerre_gauss_beam(w0, region = (X,Y), l = 1, m = 0);\n",
        "i = 0;\n",
        "\n",
        "E = U1-U2;\n",
        "E_sqr = np.real(np.mean(np.abs(E)**2));\n",
        "\n",
        "numsteps = b;\n",
        "#pphase = np.random.uniform(0, 2 * np.pi);\n",
        "a = 1.;\n",
        "t = 1.;\n",
        "i = 0;\n",
        "\n",
        "U3, phases, E_sqr = optimizing_phases(U1, U2, region = (X,Y), num_interaction = 200);\n",
        "\n",
        "plt.imshow(np.abs(U2) ** 2., extent=[l[0],l[-1],l[0],l[-1]]);\n",
        "\n",
        "\n"
      ]
    },
    {
      "cell_type": "code",
      "source": [
        "b = zList.size;\n",
        "print(b);"
      ],
      "metadata": {
        "colab": {
          "base_uri": "https://localhost:8080/"
        },
        "id": "T4VekmTZsdzg",
        "outputId": "0ed9a25f-4e67-47d9-d961-33550ffd7811"
      },
      "execution_count": null,
      "outputs": [
        {
          "output_type": "stream",
          "name": "stdout",
          "text": [
            "250\n"
          ]
        }
      ]
    },
    {
      "cell_type": "code",
      "source": [
        "plt.imshow(np.abs(U3) ** 2., extent=[l[0],l[-1],l[0],l[-1]]);"
      ],
      "metadata": {
        "colab": {
          "base_uri": "https://localhost:8080/",
          "height": 435
        },
        "id": "QDi2v-x6AjYm",
        "outputId": "5bf1c9f1-90d1-41e3-9bf1-d8862652a5ad"
      },
      "execution_count": null,
      "outputs": [
        {
          "output_type": "display_data",
          "data": {
            "text/plain": [
              "<Figure size 640x480 with 1 Axes>"
            ],
            "image/png": "[encoded data removed]"
          },
          "metadata": {}
        }
      ]
    },
    {
      "cell_type": "code",
      "source": [
        "U3"
      ],
      "metadata": {
        "id": "fkBCe-BZGEeW",
        "colab": {
          "base_uri": "https://localhost:8080/"
        },
        "outputId": "177b70f3-d35c-44a5-a404-a43feff26dc1"
      },
      "execution_count": null,
      "outputs": [
        {
          "output_type": "execute_result",
          "data": {
            "text/plain": [
              "array([[nan+nanj, nan+nanj, nan+nanj, ..., nan+nanj, nan+nanj, nan+nanj],\n",
              "       [nan+nanj, nan+nanj, nan+nanj, ..., nan+nanj, nan+nanj, nan+nanj],\n",
              "       [nan+nanj, nan+nanj, nan+nanj, ..., nan+nanj, nan+nanj, nan+nanj],\n",
              "       ...,\n",
              "       [nan+nanj, nan+nanj, nan+nanj, ..., nan+nanj, nan+nanj, nan+nanj],\n",
              "       [nan+nanj, nan+nanj, nan+nanj, ..., nan+nanj, nan+nanj, nan+nanj],\n",
              "       [nan+nanj, nan+nanj, nan+nanj, ..., nan+nanj, nan+nanj, nan+nanj]])"
            ]
          },
          "metadata": {},
          "execution_count": 15
        }
      ]
    },
    {
      "cell_type": "code",
      "source": [
        "E_sqr"
      ],
      "metadata": {
        "colab": {
          "base_uri": "https://localhost:8080/"
        },
        "id": "IFWuWGJvGKEk",
        "outputId": "618acf57-d052-4474-88a2-18b9545969cc"
      },
      "execution_count": null,
      "outputs": [
        {
          "output_type": "execute_result",
          "data": {
            "text/plain": [
              "0.23070059726810838"
            ]
          },
          "metadata": {},
          "execution_count": 5
        }
      ]
    }
  ]
}